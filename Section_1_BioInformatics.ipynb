{
 "cells": [
  {
   "cell_type": "markdown",
   "metadata": {},
   "source": [
    "# Section 1 BioInformatics"
   ]
  },
  {
   "cell_type": "code",
   "execution_count": 1,
   "metadata": {},
   "outputs": [],
   "source": [
    "import re"
   ]
  },
  {
   "cell_type": "markdown",
   "metadata": {},
   "source": [
    "Python has a built-in package called re, which can be used to work with Regular Expressions.\n",
    "A RegEx, or Regular Expression, is a sequence of characters that forms a search pattern.\n",
    "RegEx can be used to check if a string contains the specified search pattern."
   ]
  },
  {
   "cell_type": "markdown",
   "metadata": {},
   "source": [
    "Python re methods\n",
    "* findall:\tReturns a list containing all matches\n",
    "* search:\tReturns a Match object if there is a match anywhere in the string\n",
    "* split:\tReturns a list where the string has been split at each match\n"
   ]
  },
  {
   "cell_type": "markdown",
   "metadata": {},
   "source": [
    "### re.search method\n",
    "* re.search will identify a pattern occurring anywhere in the string.\n",
    "\n"
   ]
  },
  {
   "cell_type": "code",
   "execution_count": 2,
   "metadata": {},
   "outputs": [
    {
     "name": "stdout",
     "output_type": "stream",
     "text": [
      "Found2\n"
     ]
    }
   ],
   "source": [
    "dna=\"ATCGCGAATTCAC\"\n",
    "if re.search(r\"GGACC\",dna) or re.search(r\"GGTCC\",dna):\n",
    "    print(\"Found\")\n",
    "# Another method\n",
    "if re.search(r\"GG(A|T)CC\",dna):\n",
    "    print(\"Found1\")\n",
    "elif re.search(r\"GC(A|G)AA\",dna):\n",
    "    print(\"Found2\")\n",
    "else:\n",
    "    print(\"Not found\")"
   ]
  },
  {
   "cell_type": "code",
   "execution_count": 32,
   "metadata": {},
   "outputs": [
    {
     "name": "stdout",
     "output_type": "stream",
     "text": [
      "Found3\n"
     ]
    }
   ],
   "source": [
    "# when you need to search for a pattern with any N base at a specific place\n",
    "# GCNGC\n",
    "dna=\"ATCGCGAATTCAC\"\n",
    "if re.search(r\"GC(A|T|G|C)CC\",dna):\n",
    "    print(\"Found1\")\n",
    "# Or \n",
    "if re.search(r\"GC[ATGC]GC\",dna):# this will match GCAGC, GCTGC, GCGGC AND GCCGC\n",
    "    print(\"Found2\")\n",
    "if re.search(r\"GC[ATGC]AA\",dna):\n",
    "    print(\"Found3\")"
   ]
  },
  {
   "cell_type": "markdown",
   "metadata": {},
   "source": [
    "* A question mark ? immediately following a character means that the character is optional\n",
    "* So, in pattern GAT?C the T is optional, and the pattern will match either GATC or GAC.\n",
    "* In the pattern GGG(AAA)?TTT what will happen ?\n",
    "\n"
   ]
  },
  {
   "cell_type": "markdown",
   "metadata": {},
   "source": [
    "the group of three As is optional, so the pattern will match either GGGAAATTT or GGGTTT"
   ]
  },
  {
   "cell_type": "code",
   "execution_count": 33,
   "metadata": {},
   "outputs": [
    {
     "name": "stdout",
     "output_type": "stream",
     "text": [
      "Found\n",
      "Found\n"
     ]
    }
   ],
   "source": [
    "dna=\"GAGCGATC\"\n",
    "if re.search(r\"GAT?C\",dna):\n",
    "    print(\"Found\")\n",
    "dna=\"TACGGGTTT\"\n",
    "if re.search(r\"GGG(AAA)?TTT\",dna):\n",
    "    print(\"Found\")"
   ]
  },
  {
   "cell_type": "markdown",
   "metadata": {},
   "source": [
    "* Plus sign immediately following a character or a group means that the character or the group must be present but can be repeated any number of times"
   ]
  },
  {
   "cell_type": "code",
   "execution_count": 39,
   "metadata": {},
   "outputs": [
    {
     "name": "stdout",
     "output_type": "stream",
     "text": [
      "GGGTTT , Not Found\n",
      "GGGATTT , Found\n",
      "GGGAATTT , Found\n",
      "GGGAAATTT , Found\n"
     ]
    }
   ],
   "source": [
    "dna0=\"GGGTTT\"\n",
    "dna1=\"GGGATTT\"\n",
    "dna2=\"GGGAATTT\"\n",
    "dna3=\"GGGAAATTT\"\n",
    "\n",
    "DNA=[dna0,dna1,dna2,dna3]\n",
    "for Dna in DNA:\n",
    "    if re.search(r\"GGGA+TTT\",Dna):\n",
    "        print(Dna,\", Found\")\n",
    "    else:\n",
    "        print(Dna,\", Not Found\")\n"
   ]
  },
  {
   "cell_type": "markdown",
   "metadata": {},
   "source": [
    "* An asterisk * immediately following a character or group means that the character or group is optional, but can also be repeated.\n"
   ]
  },
  {
   "cell_type": "code",
   "execution_count": 40,
   "metadata": {},
   "outputs": [
    {
     "name": "stdout",
     "output_type": "stream",
     "text": [
      "GGGTTT , Found\n",
      "GGGATTT , Found\n",
      "GGGAATTT , Found\n",
      "GGGAAATTT , Found\n"
     ]
    }
   ],
   "source": [
    "DNA=[dna0,dna1,dna2,dna3]\n",
    "for Dna in DNA:\n",
    "    if re.search(r\"GGGA*TTT\",Dna):\n",
    "        print(Dna,\", Found\")\n",
    "    else:\n",
    "        print(Dna,\", Not Found\")"
   ]
  },
  {
   "cell_type": "code",
   "execution_count": 41,
   "metadata": {},
   "outputs": [
    {
     "name": "stdout",
     "output_type": "stream",
     "text": [
      "Found 1\n",
      "Found 2\n",
      "Found 3\n"
     ]
    }
   ],
   "source": [
    "#What is the use of 'r' in re.search(r\"ATTT\",rna) ?\n",
    "# for the special characters when to specify that the following character is a special character, see the sollowing example\n",
    "rna =\"AT*GT\"\n",
    "if re.search(r\"AT\\*GT\",rna): #if u don't use the backslash it will use the asterisk * for searching optionally for a/group of characters \n",
    "    print(\"Found 1\")\n",
    "rna2= \"AT\\GTGG\"\n",
    "if re.search(r\"AT\\\\GTGG\",rna2):\n",
    "    print(\"Found 2\")\n",
    "rna3= \"AT#GTGG\"\n",
    "if re.search(r\"AT\\#GTGG\",rna3):\n",
    "    print(\"Found 3\")"
   ]
  },
  {
   "cell_type": "markdown",
   "metadata": {},
   "source": [
    "* Following a character or group with a single number inside curly brackets {} will match exactly that number of repeats\n",
    "* Following a character or group with a pair of numbers inside curly brackets {} separated with a comma allows us to specify an acceptable range of number of repeats"
   ]
  },
  {
   "cell_type": "code",
   "execution_count": 42,
   "metadata": {},
   "outputs": [
    {
     "name": "stdout",
     "output_type": "stream",
     "text": [
      "GGGTTT , Not Found\n",
      "GGGATTT , Not Found\n",
      "GGGAATTT , Found\n",
      "GGGAAATTT , Not Found\n"
     ]
    }
   ],
   "source": [
    "for Dna in DNA:\n",
    "    if re.search(r\"GGGA{2}TTT\",Dna):\n",
    "        print(Dna,\", Found\")\n",
    "    else:\n",
    "        print(Dna,\", Not Found\")"
   ]
  },
  {
   "cell_type": "code",
   "execution_count": 43,
   "metadata": {},
   "outputs": [
    {
     "name": "stdout",
     "output_type": "stream",
     "text": [
      "GGGTTT , Found\n",
      "GGGATTT , Found\n",
      "GGGAATTT , Found\n",
      "GGGAAATTT , Not Found\n"
     ]
    }
   ],
   "source": [
    "for Dna in DNA:\n",
    "    if re.search(r\"GGGA{0,2}TTT\",Dna):\n",
    "        print(Dna,\", Found\")\n",
    "    else:\n",
    "        print(Dna,\", Not Found\")"
   ]
  },
  {
   "cell_type": "markdown",
   "metadata": {},
   "source": [
    "* The caret symbol ^ matches the start of a string, and the dollar symbol matches the end of a string."
   ]
  },
  {
   "cell_type": "code",
   "execution_count": 44,
   "metadata": {},
   "outputs": [
    {
     "name": "stdout",
     "output_type": "stream",
     "text": [
      "GGGTTT , Found\n",
      "GGGATTT , Found\n",
      "GGGAATTT , Found\n",
      "GGGAAATTT , Found\n"
     ]
    }
   ],
   "source": [
    "for Dna in DNA:\n",
    "    if re.search(r\"^GGG\",Dna):\n",
    "        print(Dna,\", Found\")\n",
    "    else:\n",
    "        print(Dna,\", Not Found\")\n"
   ]
  },
  {
   "cell_type": "code",
   "execution_count": 45,
   "metadata": {},
   "outputs": [
    {
     "name": "stdout",
     "output_type": "stream",
     "text": [
      "GGGTTT , Found\n",
      "GGGATTT , Found\n",
      "GGGAATTT , Found\n",
      "GGGAAATTT , Found\n"
     ]
    }
   ],
   "source": [
    "for Dna in DNA:\n",
    "    if re.search(r\"TTT$\",Dna):\n",
    "        print(Dna,\", Found\")\n",
    "    else:\n",
    "        print(Dna,\", Not Found\")"
   ]
  },
  {
   "cell_type": "markdown",
   "metadata": {},
   "source": [
    "### re.search method\n",
    "* re.search will identify a pattern occurring anywhere in the string.\n",
    "* re.search returns the part of the string where there was a match\n",
    "* returns the part of the string where there was a match\n",
    "* The Match object has properties and methods used to retrieve information about the search, and the result:\n",
    "\n",
    "1. .span() returns a tuple containing the start-, and end positions of the match.\n",
    "2. .string returns the string passed into the function\n",
    "3. .group() returns the part of the string where there was a match"
   ]
  },
  {
   "cell_type": "code",
   "execution_count": 50,
   "metadata": {},
   "outputs": [],
   "source": [
    "dna = \"ATGACGTACGTACGACTG\"\n",
    "# store the match object in the variable m\n",
    "m = re.search(r\"GA([ATGC]{3})AC([ATGC]{2})AC\", dna)\n",
    "\n"
   ]
  },
  {
   "cell_type": "markdown",
   "metadata": {},
   "source": [
    "## What will be the match ?"
   ]
  },
  {
   "cell_type": "markdown",
   "metadata": {},
   "source": [
    "\n",
    "\n",
    "\n"
   ]
  },
  {
   "cell_type": "markdown",
   "metadata": {},
   "source": [
    "\n",
    "\n",
    "\n",
    "\n"
   ]
  },
  {
   "cell_type": "markdown",
   "metadata": {},
   "source": [
    "\n",
    "\n",
    "\n",
    "\n"
   ]
  },
  {
   "cell_type": "code",
   "execution_count": 49,
   "metadata": {},
   "outputs": [
    {
     "name": "stdout",
     "output_type": "stream",
     "text": [
      "<re.Match object; span=(2, 13), match='GACGTACGTAC'>\n",
      "entire match: GACGTACGTAC\n",
      "The first: CGT\n",
      "The first Span:  (4, 7)\n",
      "String: ATGACGTACGTACGACTG\n"
     ]
    }
   ],
   "source": [
    "\n",
    "print(m)\n",
    "print(\"entire match: \" + m.group())\n",
    "print(\"The first: \" + m.group(1))\n",
    "print(\"The first Span: \" , m.span(1))\n",
    "print(\"String:\", m.string)"
   ]
  },
  {
   "cell_type": "markdown",
   "metadata": {},
   "source": [
    "#### Getting the position of a match using start() and end()functions"
   ]
  },
  {
   "cell_type": "code",
   "execution_count": 51,
   "metadata": {},
   "outputs": [
    {
     "name": "stdout",
     "output_type": "stream",
     "text": [
      "start: 2\n",
      "end: 13\n"
     ]
    }
   ],
   "source": [
    "dna = \"ATGACGTACGTACGACTG\"\n",
    "m = re.search(r\"GA([ATGC]{3})AC([ATGC]{2})AC\", dna)\n",
    "print(\"start: \" + str(m.start()))\n",
    "print(\"end: \" + str(m.end()))"
   ]
  },
  {
   "cell_type": "code",
   "execution_count": 52,
   "metadata": {},
   "outputs": [
    {
     "name": "stdout",
     "output_type": "stream",
     "text": [
      "start: 2\n",
      "end: 13\n",
      "group one start: 4\n",
      "group one end: 7\n",
      "group two start: 9\n",
      "group two end: 11\n"
     ]
    }
   ],
   "source": [
    "dna = \"ATGACGTACGTACGACTG\"\n",
    "m = re.search(r\"GA([ATGC]{3})AC([ATGC]{2})AC\", dna)\n",
    "print(\"start: \" + str(m.start()))\n",
    "print(\"end: \" + str(m.end()))\n",
    "print(\"group one start: \" + str(m.start(1)))\n",
    "print(\"group one end: \" + str(m.end(1)))\n",
    "print(\"group two start: \" + str(m.start(2)))\n",
    "print(\"group two end: \" + str(m.end(2)))"
   ]
  },
  {
   "cell_type": "markdown",
   "metadata": {},
   "source": [
    "### re.split method\n",
    "* Returns a list where the string has been split at each match\n",
    "* After [ ] If the first character of the set is '^', all the characters that are not in the set will be matched."
   ]
  },
  {
   "cell_type": "code",
   "execution_count": 53,
   "metadata": {},
   "outputs": [
    {
     "name": "stdout",
     "output_type": "stream",
     "text": [
      "['A', 'TNG', 'ATRG', 'TA', 'GTYA', 'GATS', 'GAWT', 'G']\n"
     ]
    }
   ],
   "source": [
    "dna = \"ACTNGCATRGCTACGTYACGATSCGAWTCG\"\n",
    "AtEveryC_base=re.split(r\"C\",dna)\n",
    "print(AtEveryC_base)"
   ]
  },
  {
   "cell_type": "markdown",
   "metadata": {},
   "source": [
    "Imagine we have a consensus DNA sequence that contains ambiguity codes, and we\n",
    "want to extract all runs of contiguous unambiguous bases. We need to split the DNA\n",
    "string wherever we see a base that isn't A, T, G or C"
   ]
  },
  {
   "cell_type": "code",
   "execution_count": 54,
   "metadata": {},
   "outputs": [
    {
     "name": "stdout",
     "output_type": "stream",
     "text": [
      "['ACT', 'GCAT', 'GCTACGT', 'ACGAT', 'CGA', 'TCG']\n"
     ]
    }
   ],
   "source": [
    "dna = \"ACTNGCATRGCTACGTYACGATSCGAWTCG\"\n",
    "cons = re.split(r\"[^ACTG]\", dna)# when you find anything other than any ACGT split\n",
    "print(cons)\n"
   ]
  },
  {
   "cell_type": "markdown",
   "metadata": {},
   "source": [
    "### re.findall() method\n",
    "The findall() function returns a list containing all matches."
   ]
  },
  {
   "cell_type": "code",
   "execution_count": 55,
   "metadata": {},
   "outputs": [
    {
     "name": "stdout",
     "output_type": "stream",
     "text": [
      "['CT', 'C', 'TT', 'T', 'TC', 'T', 'C', 'TT', 'T', 'C', 'C', 'C', 'TCCCC', 'C']\n"
     ]
    }
   ],
   "source": [
    "dna = \"ACTGCATTATATCGTACGAAATTATACGCGCGTCCCCC\"\n",
    "runs = re.findall(r\"[TC]{1,5}\", dna)\n",
    "print(runs)"
   ]
  },
  {
   "cell_type": "code",
   "execution_count": 56,
   "metadata": {},
   "outputs": [
    {
     "name": "stdout",
     "output_type": "stream",
     "text": [
      "['ATTATAT', 'AAATTATA']\n"
     ]
    }
   ],
   "source": [
    "dna = \"ACTGCATTATATCGTACGAAATTATACGCGCG\"\n",
    "runs = re.findall(r\"[AT]{4,100}\", dna) # returns repeated from 4 till 100\n",
    "print(runs)"
   ]
  },
  {
   "cell_type": "markdown",
   "metadata": {},
   "source": [
    "#### Self learning\n",
    "#### Finding multiple matches using re.finditer() function\n",
    "* If we want to do anything more complicated than simply extracting the text of the matches, we need to use the re.finditer method.\n",
    "* finditer returns a sequence of match objects"
   ]
  },
  {
   "cell_type": "code",
   "execution_count": 57,
   "metadata": {},
   "outputs": [
    {
     "name": "stdout",
     "output_type": "stream",
     "text": [
      "AT rich region from 5 to 12\n",
      "AT rich region from 18 to 26\n"
     ]
    }
   ],
   "source": [
    "dna = \"ACTGCATTATATCGTACGAAATTATACGCGCG\"\n",
    "runs = re.finditer(r\"[AT]{3,100}\", dna)\n",
    "for match in runs:\n",
    "    run_start = match.start()\n",
    "    run_end = match.end()\n",
    "    print(\"AT rich region from \" + str(run_start) + \" to \" + str(run_end))"
   ]
  },
  {
   "cell_type": "markdown",
   "metadata": {},
   "source": [
    "# Introduction to Biopython "
   ]
  },
  {
   "cell_type": "markdown",
   "metadata": {},
   "source": [
    "## What is Biopython\n",
    "* Biopython is a set of freely available tools for biological computation written in Python by an international team of developers.\n",
    "* The goal of Biopython is to make it as easy as possible to use Python for bioinformatics\n",
    "\n",
    "* <a href=\"http://www.biopython.org\" target=\"_top\">Biopython website </a> provides an online resource for modules, scripts, and web links for developers of Python-based software for bioinformatics use and research."
   ]
  },
  {
   "cell_type": "markdown",
   "metadata": {},
   "source": [
    "### What can Biopython do?\n",
    "\n",
    "1. Parse bioinformatics files (FASTA, GenBank, Blast output, ...)\n",
    "2. Perform common operations on sequences, such as translation and transcription.\n",
    "3. Perform classification of data using K-Nearest Neighbors,Naive Bayes or Support Vector Machines.\n",
    "4. Access certain databases."
   ]
  },
  {
   "cell_type": "code",
   "execution_count": 58,
   "metadata": {},
   "outputs": [],
   "source": [
    "import Bio"
   ]
  },
  {
   "cell_type": "code",
   "execution_count": 59,
   "metadata": {},
   "outputs": [
    {
     "name": "stdout",
     "output_type": "stream",
     "text": [
      "AGTACACTGGT\n"
     ]
    }
   ],
   "source": [
    "from Bio.Seq import Seq\n",
    "my_seq = Seq(\"AGTACACTGGT\")\n",
    "print(my_seq)\n"
   ]
  },
  {
   "cell_type": "code",
   "execution_count": 60,
   "metadata": {},
   "outputs": [
    {
     "name": "stdout",
     "output_type": "stream",
     "text": [
      "Complement TCATGTGACCA\n"
     ]
    }
   ],
   "source": [
    "print('Complement',my_seq.complement())"
   ]
  },
  {
   "cell_type": "code",
   "execution_count": 61,
   "metadata": {},
   "outputs": [
    {
     "name": "stdout",
     "output_type": "stream",
     "text": [
      "A\n",
      "T\n",
      "T\n"
     ]
    }
   ],
   "source": [
    "# You can access elements of the sequence in the same way as for strings (but remember, Python counts from zero!):\n",
    "\n",
    "print(my_seq[0]) #first letter\n",
    "print(my_seq[2]) #third letter\n",
    "print(my_seq[-1]) #last letter\n"
   ]
  },
  {
   "cell_type": "code",
   "execution_count": 62,
   "metadata": {},
   "outputs": [
    {
     "name": "stdout",
     "output_type": "stream",
     "text": [
      "2\n"
     ]
    }
   ],
   "source": [
    "# seq.count gives non-overlapping count\n",
    "my_seq2 = Seq(\"TATTATAT\")\n",
    "print(my_seq2.count(\"TAT\")) # if overlapped count "
   ]
  },
  {
   "cell_type": "markdown",
   "metadata": {},
   "source": [
    "### Slicing a sequence"
   ]
  },
  {
   "cell_type": "code",
   "execution_count": 63,
   "metadata": {},
   "outputs": [
    {
     "data": {
      "text/plain": [
       "Seq('GATGGGCC')"
      ]
     },
     "execution_count": 63,
     "metadata": {},
     "output_type": "execute_result"
    }
   ],
   "source": [
    "my_seq3 = Seq(\"GATCGATGGGCCTATATAGGATCGAAAATCGC\")\n",
    "my_seq3[4:12]\n"
   ]
  },
  {
   "cell_type": "markdown",
   "metadata": {},
   "source": [
    "### Concatenating or adding sequences"
   ]
  },
  {
   "cell_type": "code",
   "execution_count": 66,
   "metadata": {},
   "outputs": [
    {
     "data": {
      "text/plain": [
       "Seq('EVRNAKACGT')"
      ]
     },
     "execution_count": 66,
     "metadata": {},
     "output_type": "execute_result"
    }
   ],
   "source": [
    "protein_seq = Seq(\"EVRNAK\")\n",
    "dna_seq = Seq(\"ACGT\")\n",
    "protein_seq + dna_seq"
   ]
  },
  {
   "cell_type": "markdown",
   "metadata": {},
   "source": [
    "## Transcription\n",
    "changing the coding strand to mRNA (T->U)\n"
   ]
  },
  {
   "cell_type": "code",
   "execution_count": 67,
   "metadata": {},
   "outputs": [
    {
     "data": {
      "text/plain": [
       "Seq('AUGGCCAUUGUAAUGGGCCGCUGAAAGGGUGCCCGAUAG')"
      ]
     },
     "execution_count": 67,
     "metadata": {},
     "output_type": "execute_result"
    }
   ],
   "source": [
    "coding_dna=Seq('ATGGCCATTGTAATGGGCCGCTGAAAGGGTGCCCGATAG')\n",
    "messenger_rna = coding_dna.transcribe()\n",
    "messenger_rna\n"
   ]
  },
  {
   "cell_type": "markdown",
   "metadata": {},
   "source": [
    "#### back-transcription\n",
    "The Seq object also includes a back-transcription method for going from the mRNA to the coding strand of the DNA. Again, this is a simple U → T substitution:"
   ]
  },
  {
   "cell_type": "code",
   "execution_count": 68,
   "metadata": {},
   "outputs": [
    {
     "data": {
      "text/plain": [
       "Seq('ATGGCCATTGTAATGGGCCGCTGAAAGGGTGCCCGATAG')"
      ]
     },
     "execution_count": 68,
     "metadata": {},
     "output_type": "execute_result"
    }
   ],
   "source": [
    "bck_transcription=messenger_rna.back_transcribe()\n",
    "bck_transcription"
   ]
  },
  {
   "cell_type": "markdown",
   "metadata": {},
   "source": [
    "## Translation\n",
    "Translation refers to the process of creating proteins from an mRNA template.\n",
    "* Note:these use codon table objects derived from the NCBI information"
   ]
  },
  {
   "cell_type": "code",
   "execution_count": 69,
   "metadata": {},
   "outputs": [
    {
     "name": "stdout",
     "output_type": "stream",
     "text": [
      "Table 1 Standard, SGC0\n",
      "\n",
      "  |  T      |  C      |  A      |  G      |\n",
      "--+---------+---------+---------+---------+--\n",
      "T | TTT F   | TCT S   | TAT Y   | TGT C   | T\n",
      "T | TTC F   | TCC S   | TAC Y   | TGC C   | C\n",
      "T | TTA L   | TCA S   | TAA Stop| TGA Stop| A\n",
      "T | TTG L(s)| TCG S   | TAG Stop| TGG W   | G\n",
      "--+---------+---------+---------+---------+--\n",
      "C | CTT L   | CCT P   | CAT H   | CGT R   | T\n",
      "C | CTC L   | CCC P   | CAC H   | CGC R   | C\n",
      "C | CTA L   | CCA P   | CAA Q   | CGA R   | A\n",
      "C | CTG L(s)| CCG P   | CAG Q   | CGG R   | G\n",
      "--+---------+---------+---------+---------+--\n",
      "A | ATT I   | ACT T   | AAT N   | AGT S   | T\n",
      "A | ATC I   | ACC T   | AAC N   | AGC S   | C\n",
      "A | ATA I   | ACA T   | AAA K   | AGA R   | A\n",
      "A | ATG M(s)| ACG T   | AAG K   | AGG R   | G\n",
      "--+---------+---------+---------+---------+--\n",
      "G | GTT V   | GCT A   | GAT D   | GGT G   | T\n",
      "G | GTC V   | GCC A   | GAC D   | GGC G   | C\n",
      "G | GTA V   | GCA A   | GAA E   | GGA G   | A\n",
      "G | GTG V   | GCG A   | GAG E   | GGG G   | G\n",
      "--+---------+---------+---------+---------+--\n"
     ]
    }
   ],
   "source": [
    "from Bio.Data import CodonTable\n",
    "standard_table = CodonTable.unambiguous_dna_by_id[1]\n",
    "print(standard_table)\n"
   ]
  },
  {
   "cell_type": "code",
   "execution_count": 70,
   "metadata": {},
   "outputs": [
    {
     "name": "stdout",
     "output_type": "stream",
     "text": [
      "translation of DNA: AUGGCCAUUGUAAUGGGCCGCUGAAAGGGUGCCCGAUAG  is  MAIVMGR*KGAR*\n",
      "translation of mRNA: ATGGCCATTGTAATGGGCCGCTGAAAGGGTGCCCGATAG  is  MAIVMGR*KGAR*\n"
     ]
    }
   ],
   "source": [
    "# you can translate from the DNA sequence and mRNA\n",
    "#AUGGCCAUUGUAAUGGGCCGCUGAAAGGGUGCCCGAUAG\n",
    "print(\"translation of DNA:\",messenger_rna, \" is \",messenger_rna.translate())\n",
    "print(\"translation of mRNA:\",bck_transcription, \" is \",bck_transcription.translate())"
   ]
  },
  {
   "cell_type": "code",
   "execution_count": 71,
   "metadata": {},
   "outputs": [
    {
     "data": {
      "text/plain": [
       "Seq('MAIVMGR')"
      ]
     },
     "execution_count": 71,
     "metadata": {},
     "output_type": "execute_result"
    }
   ],
   "source": [
    "messenger_rna.translate(to_stop=True)\n"
   ]
  },
  {
   "cell_type": "code",
   "execution_count": 72,
   "metadata": {},
   "outputs": [
    {
     "data": {
      "text/plain": [
       "Seq('MAIVMGR@KGAR@')"
      ]
     },
     "execution_count": 72,
     "metadata": {},
     "output_type": "execute_result"
    }
   ],
   "source": [
    "# You can change the stop symbol\n",
    "coding_dna.translate(stop_symbol=\"@\")"
   ]
  },
  {
   "cell_type": "markdown",
   "metadata": {
    "scrolled": false
   },
   "source": [
    "### How two meters long DNA fits in a cell with maximum size of 0.1 mm? \n",
    "![How DNA fits in cell](DNAinCell.jpg \"How DNA fits in cell\")"
   ]
  },
  {
   "cell_type": "code",
   "execution_count": null,
   "metadata": {},
   "outputs": [],
   "source": []
  },
  {
   "cell_type": "code",
   "execution_count": null,
   "metadata": {},
   "outputs": [],
   "source": []
  },
  {
   "cell_type": "code",
   "execution_count": null,
   "metadata": {},
   "outputs": [],
   "source": []
  }
 ],
 "metadata": {
  "kernelspec": {
   "display_name": "Python 3",
   "language": "python",
   "name": "python3"
  },
  "language_info": {
   "codemirror_mode": {
    "name": "ipython",
    "version": 3
   },
   "file_extension": ".py",
   "mimetype": "text/x-python",
   "name": "python",
   "nbconvert_exporter": "python",
   "pygments_lexer": "ipython3",
   "version": "3.8.5"
  }
 },
 "nbformat": 4,
 "nbformat_minor": 4
}
